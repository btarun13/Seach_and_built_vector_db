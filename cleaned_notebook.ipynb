{
 "cells": [
  {
   "cell_type": "markdown",
   "id": "9eb65700",
   "metadata": {},
   "source": [
    "# 🔍 PubMed Search and Embedding Workflow\n",
    "\n",
    "This notebook demonstrates a pipeline to search PubMed, download relevant documents, process PDFs, generate embeddings using OpenAI, and store them in Pinecone."
   ]
  },
  {
   "cell_type": "code",
   "execution_count": 1,
   "metadata": {},
   "outputs": [
    {
     "ename": "ModuleNotFoundError",
     "evalue": "No module named 'pandas'",
     "output_type": "error",
     "traceback": [
      "\u001b[31m---------------------------------------------------------------------------\u001b[39m",
      "\u001b[31mModuleNotFoundError\u001b[39m                       Traceback (most recent call last)",
      "\u001b[36mCell\u001b[39m\u001b[36m \u001b[39m\u001b[32mIn[1]\u001b[39m\u001b[32m, line 7\u001b[39m\n\u001b[32m      4\u001b[39m \u001b[38;5;28;01mimport\u001b[39;00m\u001b[38;5;250m \u001b[39m\u001b[34;01msubprocess\u001b[39;00m\n\u001b[32m      6\u001b[39m \u001b[38;5;66;03m# Third-party Libraries\u001b[39;00m\n\u001b[32m----> \u001b[39m\u001b[32m7\u001b[39m \u001b[38;5;28;01mimport\u001b[39;00m\u001b[38;5;250m \u001b[39m\u001b[34;01mpandas\u001b[39;00m\u001b[38;5;250m \u001b[39m\u001b[38;5;28;01mas\u001b[39;00m\u001b[38;5;250m \u001b[39m\u001b[34;01mpd\u001b[39;00m\n\u001b[32m      8\u001b[39m \u001b[38;5;28;01mfrom\u001b[39;00m\u001b[38;5;250m \u001b[39m\u001b[34;01mtqdm\u001b[39;00m\u001b[38;5;250m \u001b[39m\u001b[38;5;28;01mimport\u001b[39;00m tqdm\n\u001b[32m      9\u001b[39m \u001b[38;5;28;01mfrom\u001b[39;00m\u001b[38;5;250m \u001b[39m\u001b[34;01mBio\u001b[39;00m\u001b[38;5;250m \u001b[39m\u001b[38;5;28;01mimport\u001b[39;00m Entrez\n",
      "\u001b[31mModuleNotFoundError\u001b[39m: No module named 'pandas'"
     ]
    }
   ],
   "source": [
    "# Standard Library\n",
    "import os\n",
    "import gc\n",
    "import subprocess\n",
    "\n",
    "# Third-party Libraries\n",
    "import pandas as pd\n",
    "from tqdm import tqdm\n",
    "from Bio import Entrez\n",
    "import pubchempy as pcp\n",
    "from openai import OpenAI\n",
    "\n",
    "from pinecone import Pinecone, ServerlessSpec\n",
    "from langchain.document_loaders import PyPDFLoader\n",
    "from langchain.text_splitter import RecursiveCharacterTextSplitter\n",
    "from langchain_openai import OpenAIEmbeddings\n",
    "\n",
    "from langchain_pinecone import PineconeVectorStore\n",
    "from rich import print\n",
    "\n",
    "# Local Modules\n",
    "from demo_script import (\n",
    "    search_n_download,\n",
    "    run_bash_script,\n",
    "    pubmed_search_get_id,\n",
    "    process_pdf,\n",
    "    create_embeddings,\n",
    "    upsert_embeddings\n",
    ")\n"
   ]
  },
  {
   "cell_type": "code",
   "execution_count": null,
   "metadata": {},
   "outputs": [],
   "source": [
    "# Load API Keys from Environment Variables\n",
    "\n",
    "client = OpenAI(api_key=\"sk-proj-T0Ocs*********aPDU9DATXAA\")\n",
    "MODEL = \"text-embedding-ada-002\"\n",
    "pc = Pinecone(api_key=\"pcsk_4bbPdM_M8M*********xyzg1y4DYfi36SaSs6TTk8sQB\")\n"
   ]
  },
  {
   "cell_type": "code",
   "execution_count": 78,
   "metadata": {},
   "outputs": [],
   "source": [
    "smile_list = pd.read_csv(\"./DIA_trainingset_RDKit_descriptors.csv\")"
   ]
  },
  {
   "cell_type": "code",
   "execution_count": 79,
   "metadata": {},
   "outputs": [
    {
     "data": {
      "text/plain": [
       "['C[C@H](N(O)C(=O)N)c1cc2ccccc2s1',\n",
       " 'C[N+](C)(C)CC(=O)[O-]',\n",
       " 'CC(C)n1c(\\\\C=C\\\\[C@H](O)C[C@H](O)CC(=O)O)c(c2ccc(F)cc2)c3ccccc13',\n",
       " 'C\\\\C(=C(\\\\C#N)/C(=O)Nc1ccc(cc1)C(F)(F)F)\\\\O']"
      ]
     },
     "execution_count": 79,
     "metadata": {},
     "output_type": "execute_result"
    }
   ],
   "source": [
    "list(smile_list[\"SMILES\"][1:5])"
   ]
  },
  {
   "cell_type": "code",
   "execution_count": null,
   "metadata": {},
   "outputs": [],
   "source": [
    "email = 'your_email@mail.com'\n",
    "script_path = './down_pdf.sh' \n",
    "index_name = \"hs-codes3\" ## Change this to your desired index name\n",
    "folder = \"./research_papers\"\n",
    "\n",
    "\n",
    "if index_name not in pc.list_indexes().names():\n",
    "    pc.create_index(\n",
    "        name=index_name,\n",
    "        dimension=1536,\n",
    "        metric=\"cosine\",\n",
    "        spec=ServerlessSpec(cloud=\"aws\", region=\"us-east-1\")\n",
    "        )\n",
    "\n",
    "\n",
    "index = pc.Index(index_name)\n",
    "\n",
    "for i in tqdm(list(smile_list[\"SMILES\"][1:5])):\n",
    "\n",
    "    search_n_download(i,email,script_path,10)  ### takes percent amount of the search results to download\n",
    "\n",
    "    pdf_files = [f for f in os.listdir(folder) if f.endswith('.pdf')]\n",
    "    \n",
    "    for file in tqdm(pdf_files):\n",
    "        file_path = \"./research_papers\" + file\n",
    "\n",
    "        if os.path.getsize(file_path) == 0:\n",
    "            print(f\"File is empty: {file_path}\")\n",
    "            pass\n",
    "        else:\n",
    "            paper_name_tag = os.path.splitext(os.path.basename(file_path))[0]\n",
    "            # print(file_path)\n",
    "            texts = process_pdf(file_path)\n",
    "            embeddings = create_embeddings(texts)\n",
    "            upsert_embeddings(index, embeddings, texts, name_integ = paper_name_tag)\n",
    "\n",
    "        \n",
    "        os.remove(file_path)\n",
    "        gc.collect()\n"
   ]
  },
  {
   "cell_type": "code",
   "execution_count": null,
   "metadata": {},
   "outputs": [],
   "source": []
  },
  {
   "cell_type": "markdown",
   "metadata": {},
   "source": [
    "\n",
    "## Now you have a pinecone index where you can search docs based on your query and also build chatbot that provides references based on your collected papers\n"
   ]
  },
  {
   "cell_type": "markdown",
   "metadata": {},
   "source": []
  },
  {
   "cell_type": "code",
   "execution_count": null,
   "metadata": {},
   "outputs": [],
   "source": [
    "\n",
    "# Get openai api key from platform.openai.com\n",
    "OPENAI_API_KEY = \"sk-proj-T0Ocs*********OcPaPDU9DATXAA\"\n",
    "\n",
    "model_name = 'text-embedding-ada-002'\n",
    "\n",
    "embed = OpenAIEmbeddings(\n",
    "    model=model_name,\n",
    "    openai_api_key=OPENAI_API_KEY\n",
    ")"
   ]
  },
  {
   "cell_type": "code",
   "execution_count": null,
   "metadata": {},
   "outputs": [],
   "source": [
    "\n",
    "\n",
    "pinecone_vectorstore = PineconeVectorStore(\n",
    "    index_name=index_name, \n",
    "    embedding=embed, \n",
    "    text_key=\"text\",\n",
    "    pinecone_api_key = \"pcsk_4bbPdM_M8MnFKNao*********iyByxyzg1y4DYfi36SaSs6TTk8sQB\"\n",
    ")"
   ]
  },
  {
   "cell_type": "code",
   "execution_count": 71,
   "metadata": {},
   "outputs": [
    {
     "data": {
      "text/html": [
       "<pre style=\"white-space:pre;overflow-x:auto;line-height:normal;font-family:Menlo,'DejaVu Sans Mono',consolas,'Courier New',monospace\"><span style=\"font-weight: bold\">{</span>\n",
       "    <span style=\"color: #008000; text-decoration-color: #008000\">'id'</span>: <span style=\"color: #008000; text-decoration-color: #008000\">'16662637chunk-26'</span>,\n",
       "    <span style=\"color: #008000; text-decoration-color: #008000\">'metadata'</span>: <span style=\"font-weight: bold\">{}</span>,\n",
       "    <span style=\"color: #008000; text-decoration-color: #008000\">'page_content'</span>: <span style=\"color: #008000; text-decoration-color: #008000\">'BETAINEINBETASPP.\\n120\\n80k\\n40\\nN\\n30\\n20_\\n10o_\\n0\\nII\\nB.LEAF\\n </span>\n",
       "<span style=\"color: #008000; text-decoration-color: #008000\">BETAINE\\n--a--PHOSPHATIDYL-CHOLINE\\n *\\\\ CHOLINE\\n A PHOSPHORYL-\\nCHOLINE\\nBETAINE\\n0 2 0 </span>\n",
       "<span style=\"color: #008000; text-decoration-color: #008000\">2\\nINCUBATIONTIME(h)\\nFIG.3.TimecoursesforconversionofIjImolof[\"4C]ethanolamineto\\nbetaineandotherQACsbytaprootsink</span>\n",
       "<span style=\"color: #008000; text-decoration-color: #008000\">s(A)andleaves(B)ofintact\\nGreatWesternD-2sugarbeetplants,salinizedwith150mmNaCl.Plants\\nwerefed[\\'4Clethanolamine(1</span>\n",
       "<span style=\"color: #008000; text-decoration-color: #008000\">.40,uCijimol-I)viathetaprootsinkand\\nincubatedindarkness,orwerefed[\"4Clethanolamine(3.29,uCi,tmol-\\')\\nviaaleafblad</span>\n",
       "<span style=\"color: #008000; text-decoration-color: #008000\">eandincubatedinthelight.Eachdatapointisthemeanfor\\nthreeplants.Theconversionof[\\'4C]ethanolaminetolabeledproductsis</span>\n",
       "<span style=\"color: #008000; text-decoration-color: #008000\">\\nexpressedinnmol(calculatedfromthespecificactivityoftheethanolamine\\nsupplied)tofacilitatecomparisonofrootandleafl</span>\n",
       "<span style=\"color: #008000; text-decoration-color: #008000\">abelingdata.Thefed\\nleafandthetaprootsinkweresimilarindryweight(leaf= 87mg,taproot\\n+hypocotyl= </span>\n",
       "<span style=\"color: #008000; text-decoration-color: #008000\">97mg;meansforthreeorgans).Theexperimentswere\\nrepeated,analyzingonly[\\'4C]betaineand[\"C]phosphatidylcholine,with\\nv</span>\n",
       "<span style=\"color: #008000; text-decoration-color: #008000\">erysimilarresults.\\nSimilarlyclosecorrelationsforsinglegenotypesgrownatvarious'</span>,\n",
       "    <span style=\"color: #008000; text-decoration-color: #008000\">'type'</span>: <span style=\"color: #008000; text-decoration-color: #008000\">'Document'</span>\n",
       "<span style=\"font-weight: bold\">}</span>\n",
       "</pre>\n"
      ],
      "text/plain": [
       "\u001b[1m{\u001b[0m\n",
       "    \u001b[32m'id'\u001b[0m: \u001b[32m'16662637chunk-26'\u001b[0m,\n",
       "    \u001b[32m'metadata'\u001b[0m: \u001b[1m{\u001b[0m\u001b[1m}\u001b[0m,\n",
       "    \u001b[32m'page_content'\u001b[0m: \u001b[32m'BETAINEINBETASPP.\\n120\\n80k\\n40\\nN\\n30\\n20_\\n10o_\\n0\\nII\\nB.LEAF\\n \u001b[0m\n",
       "\u001b[32mBETAINE\\n--a--PHOSPHATIDYL-CHOLINE\\n *\\\\ CHOLINE\\n A PHOSPHORYL-\\nCHOLINE\\nBETAINE\\n0 2 0 \u001b[0m\n",
       "\u001b[32m2\\nINCUBATIONTIME\u001b[0m\u001b[32m(\u001b[0m\u001b[32mh\u001b[0m\u001b[32m)\u001b[0m\u001b[32m\\nFIG.3.TimecoursesforconversionofIjImolof\u001b[0m\u001b[32m[\u001b[0m\u001b[32m\"4C\u001b[0m\u001b[32m]\u001b[0m\u001b[32methanolamineto\\nbetaineandotherQACsbytaprootsink\u001b[0m\n",
       "\u001b[32ms\u001b[0m\u001b[32m(\u001b[0m\u001b[32mA\u001b[0m\u001b[32m)\u001b[0m\u001b[32mandleaves\u001b[0m\u001b[32m(\u001b[0m\u001b[32mB\u001b[0m\u001b[32m)\u001b[0m\u001b[32mofintact\\nGreatWesternD-2sugarbeetplants,salinizedwith150mmNaCl.Plants\\nwerefed\u001b[0m\u001b[32m[\u001b[0m\u001b[32m\\'4Clethanolamine\u001b[0m\u001b[32m(\u001b[0m\u001b[32m1\u001b[0m\n",
       "\u001b[32m.40,uCijimol-I\u001b[0m\u001b[32m)\u001b[0m\u001b[32mviathetaprootsinkand\\nincubatedindarkness,orwerefed\u001b[0m\u001b[32m[\u001b[0m\u001b[32m\"4Clethanolamine\u001b[0m\u001b[32m(\u001b[0m\u001b[32m3.29,uCi,tmol-\\'\u001b[0m\u001b[32m)\u001b[0m\u001b[32m\\nviaaleafblad\u001b[0m\n",
       "\u001b[32meandincubatedinthelight.Eachdatapointisthemeanfor\\nthreeplants.Theconversionof\u001b[0m\u001b[32m[\u001b[0m\u001b[32m\\'4C\u001b[0m\u001b[32m]\u001b[0m\u001b[32methanolaminetolabeledproductsis\u001b[0m\n",
       "\u001b[32m\\nexpressedinnmol\u001b[0m\u001b[32m(\u001b[0m\u001b[32mcalculatedfromthespecificactivityoftheethanolamine\\nsupplied\u001b[0m\u001b[32m)\u001b[0m\u001b[32mtofacilitatecomparisonofrootandleafl\u001b[0m\n",
       "\u001b[32mabelingdata.Thefed\\nleafandthetaprootsinkweresimilarindryweight\u001b[0m\u001b[32m(\u001b[0m\u001b[32mleaf\u001b[0m\u001b[32m= 87mg,taproot\\n+\u001b[0m\u001b[32mhypocotyl\u001b[0m\u001b[32m= \u001b[0m\n",
       "\u001b[32m97mg;meansforthreeorgans\u001b[0m\u001b[32m)\u001b[0m\u001b[32m.Theexperimentswere\\nrepeated,analyzingonly\u001b[0m\u001b[32m[\u001b[0m\u001b[32m\\'4C\u001b[0m\u001b[32m]\u001b[0m\u001b[32mbetaineand\u001b[0m\u001b[32m[\u001b[0m\u001b[32m\"C\u001b[0m\u001b[32m]\u001b[0m\u001b[32mphosphatidylcholine,with\\nv\u001b[0m\n",
       "\u001b[32merysimilarresults.\\nSimilarlyclosecorrelationsforsinglegenotypesgrownatvarious'\u001b[0m,\n",
       "    \u001b[32m'type'\u001b[0m: \u001b[32m'Document'\u001b[0m\n",
       "\u001b[1m}\u001b[0m\n"
      ]
     },
     "metadata": {},
     "output_type": "display_data"
    },
    {
     "data": {
      "text/html": [
       "<pre style=\"white-space:pre;overflow-x:auto;line-height:normal;font-family:Menlo,'DejaVu Sans Mono',consolas,'Courier New',monospace\">\n",
       "</pre>\n"
      ],
      "text/plain": [
       "\n"
      ]
     },
     "metadata": {},
     "output_type": "display_data"
    },
    {
     "data": {
      "text/html": [
       "<pre style=\"white-space:pre;overflow-x:auto;line-height:normal;font-family:Menlo,'DejaVu Sans Mono',consolas,'Courier New',monospace\"><span style=\"font-weight: bold\">{</span>\n",
       "    <span style=\"color: #008000; text-decoration-color: #008000\">'id'</span>: <span style=\"color: #008000; text-decoration-color: #008000\">'39675709chunk-70'</span>,\n",
       "    <span style=\"color: #008000; text-decoration-color: #008000\">'metadata'</span>: <span style=\"font-weight: bold\">{}</span>,\n",
       "    <span style=\"color: #008000; text-decoration-color: #008000\">'page_content'</span>: <span style=\"color: #008000; text-decoration-color: #008000\">'11. Kärkkäinen, O., Tuomainen, T., Koistinen, V., Tuomainen, M., Lep-\\npänen, J., Laitinen, </span>\n",
       "<span style=\"color: #008000; text-decoration-color: #008000\">T.,et al. (2018) Whole grain intake associated mole-\\ncule 5-aminovaleric acid betaine decreasesb-oxidation of </span>\n",
       "<span style=\"color: #008000; text-decoration-color: #008000\">fatty acids in\\nmouse cardiomyocytes. Sci. Rep. 8, 13036\\n12. Lindstedt, G., and Lindstedt, S. (1970) Cofactor </span>\n",
       "<span style=\"color: #008000; text-decoration-color: #008000\">requirements of g-\\nbutyrobetaine hydroxylase from rat liver.J. Biol. Chem.245, 4178–4186\\n13. Vaz, F. M., and </span>\n",
       "<span style=\"color: #008000; text-decoration-color: #008000\">Wanders, R. J. A. (2002) Carnitine biosynthesis in\\nmammals. Biochem. J. 361, 417–429\\n14. Yasumoto, T., and </span>\n",
       "<span style=\"color: #008000; text-decoration-color: #008000\">Shimizu, N. (1977) Identi ﬁcation of delta-valer-\\nobetaine and other betaines in the ovary of shellﬁsh Callista </span>\n",
       "<span style=\"color: #008000; text-decoration-color: #008000\">brevishipo-\\nnata. Bull. Jpn. Soc. Sci. Fish43, 201–206\\n15. Keiser, M. J., Roth, B. L., Armbruster, B. N., </span>\n",
       "<span style=\"color: #008000; text-decoration-color: #008000\">Ernsberger, P., Irwin, J. J., and\\nShoichet, B. K. (2007) Relating protein pharmacology by ligand chemistry.\\nNat. </span>\n",
       "<span style=\"color: #008000; text-decoration-color: #008000\">Biotechnol. 25, 197–206\\n16. Tars, K., Leitans, J., Kazaks, A., Zelencova, D., Liepinsh, E., Kuka, J.,et al.'</span>,\n",
       "    <span style=\"color: #008000; text-decoration-color: #008000\">'type'</span>: <span style=\"color: #008000; text-decoration-color: #008000\">'Document'</span>\n",
       "<span style=\"font-weight: bold\">}</span>\n",
       "</pre>\n"
      ],
      "text/plain": [
       "\u001b[1m{\u001b[0m\n",
       "    \u001b[32m'id'\u001b[0m: \u001b[32m'39675709chunk-70'\u001b[0m,\n",
       "    \u001b[32m'metadata'\u001b[0m: \u001b[1m{\u001b[0m\u001b[1m}\u001b[0m,\n",
       "    \u001b[32m'page_content'\u001b[0m: \u001b[32m'11. Kärkkäinen, O., Tuomainen, T., Koistinen, V., Tuomainen, M., Lep-\\npänen, J., Laitinen, \u001b[0m\n",
       "\u001b[32mT.,et al. \u001b[0m\u001b[32m(\u001b[0m\u001b[32m2018\u001b[0m\u001b[32m)\u001b[0m\u001b[32m Whole grain intake associated mole-\\ncule 5-aminovaleric acid betaine decreasesb-oxidation of \u001b[0m\n",
       "\u001b[32mfatty acids in\\nmouse cardiomyocytes. Sci. Rep. 8, 13036\\n12. Lindstedt, G., and Lindstedt, S. \u001b[0m\u001b[32m(\u001b[0m\u001b[32m1970\u001b[0m\u001b[32m)\u001b[0m\u001b[32m Cofactor \u001b[0m\n",
       "\u001b[32mrequirements of g-\\nbutyrobetaine hydroxylase from rat liver.J. Biol. Chem.245, 4178–4186\\n13. Vaz, F. M., and \u001b[0m\n",
       "\u001b[32mWanders, R. J. A. \u001b[0m\u001b[32m(\u001b[0m\u001b[32m2002\u001b[0m\u001b[32m)\u001b[0m\u001b[32m Carnitine biosynthesis in\\nmammals. Biochem. J. 361, 417–429\\n14. Yasumoto, T., and \u001b[0m\n",
       "\u001b[32mShimizu, N. \u001b[0m\u001b[32m(\u001b[0m\u001b[32m1977\u001b[0m\u001b[32m)\u001b[0m\u001b[32m Identi ﬁcation of delta-valer-\\nobetaine and other betaines in the ovary of shellﬁsh Callista \u001b[0m\n",
       "\u001b[32mbrevishipo-\\nnata. Bull. Jpn. Soc. Sci. Fish43, 201–206\\n15. Keiser, M. J., Roth, B. L., Armbruster, B. N., \u001b[0m\n",
       "\u001b[32mErnsberger, P., Irwin, J. J., and\\nShoichet, B. K. \u001b[0m\u001b[32m(\u001b[0m\u001b[32m2007\u001b[0m\u001b[32m)\u001b[0m\u001b[32m Relating protein pharmacology by ligand chemistry.\\nNat. \u001b[0m\n",
       "\u001b[32mBiotechnol. 25, 197–206\\n16. Tars, K., Leitans, J., Kazaks, A., Zelencova, D., Liepinsh, E., Kuka, J.,et al.'\u001b[0m,\n",
       "    \u001b[32m'type'\u001b[0m: \u001b[32m'Document'\u001b[0m\n",
       "\u001b[1m}\u001b[0m\n"
      ]
     },
     "metadata": {},
     "output_type": "display_data"
    },
    {
     "data": {
      "text/html": [
       "<pre style=\"white-space:pre;overflow-x:auto;line-height:normal;font-family:Menlo,'DejaVu Sans Mono',consolas,'Courier New',monospace\">\n",
       "</pre>\n"
      ],
      "text/plain": [
       "\n"
      ]
     },
     "metadata": {},
     "output_type": "display_data"
    },
    {
     "data": {
      "text/html": [
       "<pre style=\"white-space:pre;overflow-x:auto;line-height:normal;font-family:Menlo,'DejaVu Sans Mono',consolas,'Courier New',monospace\"><span style=\"font-weight: bold\">{</span>\n",
       "    <span style=\"color: #008000; text-decoration-color: #008000\">'id'</span>: <span style=\"color: #008000; text-decoration-color: #008000\">'26861782chunk-46'</span>,\n",
       "    <span style=\"color: #008000; text-decoration-color: #008000\">'metadata'</span>: <span style=\"font-weight: bold\">{}</span>,\n",
       "    <span style=\"color: #008000; text-decoration-color: #008000\">'page_content'</span>: <span style=\"color: #008000; text-decoration-color: #008000\">'to implementing long-term trials that test the effect of\\ndietary betaine supplementation in </span>\n",
       "<span style=\"color: #008000; text-decoration-color: #008000\">individuals at high\\nrisk of diabetes.\\nThe limitations of our study deserve comment. First,\\nwe measured a subset </span>\n",
       "<span style=\"color: #008000; text-decoration-color: #008000\">of 84 circulating metabolites out of\\nthe estimated 5,000– 10,000 species within the metabo-\\nlome. Our results are</span>\n",
       "<span style=\"color: #008000; text-decoration-color: #008000\">thus agnostic to the predictive ca-\\npacity of metabolites not measured on our platform\\n(26,27). Utilization of </span>\n",
       "<span style=\"color: #008000; text-decoration-color: #008000\">novel, nontargeted measures of\\nmetabolites may highlight additional markers of diabetes\\nrisk within this </span>\n",
       "<span style=\"color: #008000; text-decoration-color: #008000\">population. Although our method is ro-\\nbust to the measurement of small organic amines, alterna-\\ntive methods of </span>\n",
       "<span style=\"color: #008000; text-decoration-color: #008000\">metabolite proﬁling, speciﬁcally nuclear\\nmagnetic resonance, could be used to extend ourﬁndings.\\nSecond, samples </span>\n",
       "<span style=\"color: #008000; text-decoration-color: #008000\">for direct measurement were selected\\nbased on a nested case-control design and established sta-\\ntistical methods </span>\n",
       "<span style=\"color: #008000; text-decoration-color: #008000\">were used to extend the results to the\\nentire DPP. This approach was chosen given logistical is-'</span>,\n",
       "    <span style=\"color: #008000; text-decoration-color: #008000\">'type'</span>: <span style=\"color: #008000; text-decoration-color: #008000\">'Document'</span>\n",
       "<span style=\"font-weight: bold\">}</span>\n",
       "</pre>\n"
      ],
      "text/plain": [
       "\u001b[1m{\u001b[0m\n",
       "    \u001b[32m'id'\u001b[0m: \u001b[32m'26861782chunk-46'\u001b[0m,\n",
       "    \u001b[32m'metadata'\u001b[0m: \u001b[1m{\u001b[0m\u001b[1m}\u001b[0m,\n",
       "    \u001b[32m'page_content'\u001b[0m: \u001b[32m'to implementing long-term trials that test the effect of\\ndietary betaine supplementation in \u001b[0m\n",
       "\u001b[32mindividuals at high\\nrisk of diabetes.\\nThe limitations of our study deserve comment. First,\\nwe measured a subset \u001b[0m\n",
       "\u001b[32mof 84 circulating metabolites out of\\nthe estimated 5,000– 10,000 species within the metabo-\\nlome. Our results are\u001b[0m\n",
       "\u001b[32mthus agnostic to the predictive ca-\\npacity of metabolites not measured on our platform\\n\u001b[0m\u001b[32m(\u001b[0m\u001b[32m26,27\u001b[0m\u001b[32m)\u001b[0m\u001b[32m. Utilization of \u001b[0m\n",
       "\u001b[32mnovel, nontargeted measures of\\nmetabolites may highlight additional markers of diabetes\\nrisk within this \u001b[0m\n",
       "\u001b[32mpopulation. Although our method is ro-\\nbust to the measurement of small organic amines, alterna-\\ntive methods of \u001b[0m\n",
       "\u001b[32mmetabolite proﬁling, speciﬁcally nuclear\\nmagnetic resonance, could be used to extend ourﬁndings.\\nSecond, samples \u001b[0m\n",
       "\u001b[32mfor direct measurement were selected\\nbased on a nested case-control design and established sta-\\ntistical methods \u001b[0m\n",
       "\u001b[32mwere used to extend the results to the\\nentire DPP. This approach was chosen given logistical is-'\u001b[0m,\n",
       "    \u001b[32m'type'\u001b[0m: \u001b[32m'Document'\u001b[0m\n",
       "\u001b[1m}\u001b[0m\n"
      ]
     },
     "metadata": {},
     "output_type": "display_data"
    },
    {
     "data": {
      "text/html": [
       "<pre style=\"white-space:pre;overflow-x:auto;line-height:normal;font-family:Menlo,'DejaVu Sans Mono',consolas,'Courier New',monospace\">\n",
       "</pre>\n"
      ],
      "text/plain": [
       "\n"
      ]
     },
     "metadata": {},
     "output_type": "display_data"
    },
    {
     "data": {
      "text/html": [
       "<pre style=\"white-space:pre;overflow-x:auto;line-height:normal;font-family:Menlo,'DejaVu Sans Mono',consolas,'Courier New',monospace\"><span style=\"font-weight: bold\">{</span>\n",
       "    <span style=\"color: #008000; text-decoration-color: #008000\">'id'</span>: <span style=\"color: #008000; text-decoration-color: #008000\">'16662637chunk-41'</span>,\n",
       "    <span style=\"color: #008000; text-decoration-color: #008000\">'metadata'</span>: <span style=\"font-weight: bold\">{}</span>,\n",
       "    <span style=\"color: #008000; text-decoration-color: #008000\">'page_content'</span>: \n",
       "<span style=\"color: #008000; text-decoration-color: #008000\">'wholemustberegulatedprincipallyviatheactivityofthesynthesis\\npathwayintheleaves.\\nBetaineisaccumulatedconstitutive</span>\n",
       "<span style=\"color: #008000; text-decoration-color: #008000\">lyinunsalinizedbeetplants\\nandsalinizationinducesfurtheraccumulation;domesticationhas\\nnotgreatlyalteredthis.Howeve</span>\n",
       "<span style=\"color: #008000; text-decoration-color: #008000\">r,withintheprimarygenepoolof\\nsugarbeettheremaybetwosortsofgeneticvariationforbetaine:\\n(a)variationforthebetaineac</span>\n",
       "<span style=\"color: #008000; text-decoration-color: #008000\">cumulatedbytheplantasawhole\\n(presumablyduetovariationintherateofsynthesisbyleaves);\\n(b)variationforbetainepartiti</span>\n",
       "<span style=\"color: #008000; text-decoration-color: #008000\">oningtotheroot(presumably\\narisingfromvariationintheexportofbetainefromleaves).\\nAcknowledgments-WethankKimberlyDit</span>\n",
       "<span style=\"color: #008000; text-decoration-color: #008000\">zandMargaretHoldredgefortech-\\nnicalassistance,andDr.J.A.D.Zeevaartforadviceuponphotoperiodexperiments.\\nLITERATURE</span>\n",
       "<span style=\"color: #008000; text-decoration-color: #008000\">CITED\\n1.BOWMANMS,RROHRINGER1970Formatemetabolismandbetaineformation\\ninhealthyandrust-infectedwheat.CanJBot48:803-</span>\n",
       "<span style=\"color: #008000; text-decoration-color: #008000\">811\\n2.CAMPBELLGKG1976Sugarbeet.InNWSimmonds,ed,EvolutionofCrop\\nPlants.Longman,London,pp25-28\\n3.COUGHLANSJ,RGWYNJ</span>\n",
       "<span style=\"color: #008000; text-decoration-color: #008000\">ONES1980SomeresponsesofSpinaceaoleraceatosalt\\n1197'</span>,\n",
       "    <span style=\"color: #008000; text-decoration-color: #008000\">'type'</span>: <span style=\"color: #008000; text-decoration-color: #008000\">'Document'</span>\n",
       "<span style=\"font-weight: bold\">}</span>\n",
       "</pre>\n"
      ],
      "text/plain": [
       "\u001b[1m{\u001b[0m\n",
       "    \u001b[32m'id'\u001b[0m: \u001b[32m'16662637chunk-41'\u001b[0m,\n",
       "    \u001b[32m'metadata'\u001b[0m: \u001b[1m{\u001b[0m\u001b[1m}\u001b[0m,\n",
       "    \u001b[32m'page_content'\u001b[0m: \n",
       "\u001b[32m'wholemustberegulatedprincipallyviatheactivityofthesynthesis\\npathwayintheleaves.\\nBetaineisaccumulatedconstitutive\u001b[0m\n",
       "\u001b[32mlyinunsalinizedbeetplants\\nandsalinizationinducesfurtheraccumulation;domesticationhas\\nnotgreatlyalteredthis.Howeve\u001b[0m\n",
       "\u001b[32mr,withintheprimarygenepoolof\\nsugarbeettheremaybetwosortsofgeneticvariationforbetaine:\\n\u001b[0m\u001b[32m(\u001b[0m\u001b[32ma\u001b[0m\u001b[32m)\u001b[0m\u001b[32mvariationforthebetaineac\u001b[0m\n",
       "\u001b[32mcumulatedbytheplantasawhole\\n\u001b[0m\u001b[32m(\u001b[0m\u001b[32mpresumablyduetovariationintherateofsynthesisbyleaves\u001b[0m\u001b[32m)\u001b[0m\u001b[32m;\\n\u001b[0m\u001b[32m(\u001b[0m\u001b[32mb\u001b[0m\u001b[32m)\u001b[0m\u001b[32mvariationforbetainepartiti\u001b[0m\n",
       "\u001b[32moningtotheroot\u001b[0m\u001b[32m(\u001b[0m\u001b[32mpresumably\\narisingfromvariationintheexportofbetainefromleaves\u001b[0m\u001b[32m)\u001b[0m\u001b[32m.\\nAcknowledgments-WethankKimberlyDit\u001b[0m\n",
       "\u001b[32mzandMargaretHoldredgefortech-\\nnicalassistance,andDr.J.A.D.Zeevaartforadviceuponphotoperiodexperiments.\\nLITERATURE\u001b[0m\n",
       "\u001b[32mCITED\\n1.BOWMANMS,RROHRINGER1970Formatemetabolismandbetaineformation\\ninhealthyandrust-infectedwheat.CanJBot48:803-\u001b[0m\n",
       "\u001b[32m811\\n2.CAMPBELLGKG1976Sugarbeet.InNWSimmonds,ed,EvolutionofCrop\\nPlants.Longman,London,pp25-28\\n3.COUGHLANSJ,RGWYNJ\u001b[0m\n",
       "\u001b[32mONES1980SomeresponsesofSpinaceaoleraceatosalt\\n1197'\u001b[0m,\n",
       "    \u001b[32m'type'\u001b[0m: \u001b[32m'Document'\u001b[0m\n",
       "\u001b[1m}\u001b[0m\n"
      ]
     },
     "metadata": {},
     "output_type": "display_data"
    },
    {
     "data": {
      "text/html": [
       "<pre style=\"white-space:pre;overflow-x:auto;line-height:normal;font-family:Menlo,'DejaVu Sans Mono',consolas,'Courier New',monospace\">\n",
       "</pre>\n"
      ],
      "text/plain": [
       "\n"
      ]
     },
     "metadata": {},
     "output_type": "display_data"
    },
    {
     "data": {
      "text/html": [
       "<pre style=\"white-space:pre;overflow-x:auto;line-height:normal;font-family:Menlo,'DejaVu Sans Mono',consolas,'Courier New',monospace\"><span style=\"font-weight: bold\">{</span>\n",
       "    <span style=\"color: #008000; text-decoration-color: #008000\">'id'</span>: <span style=\"color: #008000; text-decoration-color: #008000\">'31848620chunk-20'</span>,\n",
       "    <span style=\"color: #008000; text-decoration-color: #008000\">'metadata'</span>: <span style=\"font-weight: bold\">{}</span>,\n",
       "    <span style=\"color: #008000; text-decoration-color: #008000\">'page_content'</span>: <span style=\"color: #008000; text-decoration-color: #008000\">'metabolite correlations. Of these, only 5 to our </span>\n",
       "<span style=\"color: #008000; text-decoration-color: #008000\">knowledge\\nhavebeenpreviouslyreportedinpopulationandfeedingstudies\\n(proline betaine and citrus, 1-methylhistidine </span>\n",
       "<span style=\"color: #008000; text-decoration-color: #008000\">and chicken,\\nand pantothenic acid, thiamin, 5-methyltetrahydrofolate, </span>\n",
       "<span style=\"color: #008000; text-decoration-color: #008000\">and\\nsupplements)(6,9,12,22).Ourfindingsaddto thegrowing list\\nof candidate dietary biomarkers to be validated and </span>\n",
       "<span style=\"color: #008000; text-decoration-color: #008000\">potentially\\nused in nutritional epidemiology studies.\\nTo date, these 2 metabolomics platforms have been used\\nin </span>\n",
       "<span style=\"color: #008000; text-decoration-color: #008000\">2 prior dietary studies (14, 15), both of which focused on\\nspecific investigator-assigned diets. In contrast to </span>\n",
       "<span style=\"color: #008000; text-decoration-color: #008000\">these studies,\\nthe present study covers a broad span of different aspects of\\ndiet, which likely explains the </span>\n",
       "<span style=\"color: #008000; text-decoration-color: #008000\">large number of novel findings.\\n696 Mazzilli et al.'</span>,\n",
       "    <span style=\"color: #008000; text-decoration-color: #008000\">'type'</span>: <span style=\"color: #008000; text-decoration-color: #008000\">'Document'</span>\n",
       "<span style=\"font-weight: bold\">}</span>\n",
       "</pre>\n"
      ],
      "text/plain": [
       "\u001b[1m{\u001b[0m\n",
       "    \u001b[32m'id'\u001b[0m: \u001b[32m'31848620chunk-20'\u001b[0m,\n",
       "    \u001b[32m'metadata'\u001b[0m: \u001b[1m{\u001b[0m\u001b[1m}\u001b[0m,\n",
       "    \u001b[32m'page_content'\u001b[0m: \u001b[32m'metabolite correlations. Of these, only 5 to our \u001b[0m\n",
       "\u001b[32mknowledge\\nhavebeenpreviouslyreportedinpopulationandfeedingstudies\\n\u001b[0m\u001b[32m(\u001b[0m\u001b[32mproline betaine and citrus, 1-methylhistidine \u001b[0m\n",
       "\u001b[32mand chicken,\\nand pantothenic acid, thiamin, 5-methyltetrahydrofolate, \u001b[0m\n",
       "\u001b[32mand\\nsupplements\u001b[0m\u001b[32m)\u001b[0m\u001b[32m(\u001b[0m\u001b[32m6,9,12,22\u001b[0m\u001b[32m)\u001b[0m\u001b[32m.Ourfindingsaddto thegrowing list\\nof candidate dietary biomarkers to be validated and \u001b[0m\n",
       "\u001b[32mpotentially\\nused in nutritional epidemiology studies.\\nTo date, these 2 metabolomics platforms have been used\\nin \u001b[0m\n",
       "\u001b[32m2 prior dietary studies \u001b[0m\u001b[32m(\u001b[0m\u001b[32m14, 15\u001b[0m\u001b[32m)\u001b[0m\u001b[32m, both of which focused on\\nspecific investigator-assigned diets. In contrast to \u001b[0m\n",
       "\u001b[32mthese studies,\\nthe present study covers a broad span of different aspects of\\ndiet, which likely explains the \u001b[0m\n",
       "\u001b[32mlarge number of novel findings.\\n696 Mazzilli et al.'\u001b[0m,\n",
       "    \u001b[32m'type'\u001b[0m: \u001b[32m'Document'\u001b[0m\n",
       "\u001b[1m}\u001b[0m\n"
      ]
     },
     "metadata": {},
     "output_type": "display_data"
    },
    {
     "data": {
      "text/html": [
       "<pre style=\"white-space:pre;overflow-x:auto;line-height:normal;font-family:Menlo,'DejaVu Sans Mono',consolas,'Courier New',monospace\">\n",
       "</pre>\n"
      ],
      "text/plain": [
       "\n"
      ]
     },
     "metadata": {},
     "output_type": "display_data"
    }
   ],
   "source": [
    "\n",
    "\n",
    "documents = pinecone_vectorstore.similarity_search(\n",
    "    query=\"Any interesting finding on betaine ?,cite the sources and pinecone database paper too\",  # our search query\n",
    "    k=5  # return 3 most relevant docs\n",
    ")\n",
    "\n",
    "for doc in documents:\n",
    "    print(doc.__dict__)\n",
    "    print()"
   ]
  },
  {
   "cell_type": "code",
   "execution_count": null,
   "metadata": {},
   "outputs": [],
   "source": [
    "## Now you can use this vector database to answer queries with citations on sources. "
   ]
  },
  {
   "cell_type": "code",
   "execution_count": 72,
   "metadata": {},
   "outputs": [],
   "source": [
    "from langchain_openai import ChatOpenAI\n",
    "from langchain.chains import RetrievalQA\n",
    "\n",
    "# Chat Completion LLM\n",
    "llm = ChatOpenAI(\n",
    "    openai_api_key=OPENAI_API_KEY,\n",
    "    model_name='gpt-4.5-preview',\n",
    "    temperature=0.0\n",
    ")\n",
    "\n",
    "qa = RetrievalQA.from_chain_type(\n",
    "    llm=llm,\n",
    "    chain_type=\"stuff\",\n",
    "    retriever=pinecone_vectorstore.as_retriever()\n",
    ")"
   ]
  },
  {
   "cell_type": "code",
   "execution_count": 74,
   "metadata": {},
   "outputs": [],
   "source": [
    "answer = qa.invoke(\"Any interesting finding on betaine ?\\\n",
    "    Cite the sources and are congruent with data from pinecone database\")"
   ]
  },
  {
   "cell_type": "code",
   "execution_count": 75,
   "metadata": {},
   "outputs": [
    {
     "data": {
      "text/html": [
       "<pre style=\"white-space:pre;overflow-x:auto;line-height:normal;font-family:Menlo,'DejaVu Sans Mono',consolas,'Courier New',monospace\">Yes, there are several interesting findings regarding betaine:\n",
       "\n",
       "<span style=\"color: #008080; text-decoration-color: #008080; font-weight: bold\">1</span>. Betaine has been shown to accumulate significantly in plants under saline conditions, suggesting a role in \n",
       "osmoregulation. Specifically, in sugar beet <span style=\"font-weight: bold\">(</span>Beta spp.<span style=\"font-weight: bold\">)</span>, betaine accumulation in response to salt stress could \n",
       "significantly contribute to cytoplasmic osmoregulation. This is supported by the hypothesis that betaine is \n",
       "compartmentalized primarily in the cytoplasm rather than vacuoles, thus functioning as a cytosolic osmoticum \n",
       "<span style=\"font-weight: bold\">(</span>source: provided context<span style=\"font-weight: bold\">)</span>.\n",
       "\n",
       "<span style=\"color: #008080; text-decoration-color: #008080; font-weight: bold\">2</span>. In sugar beet plants exposed to saline conditions <span style=\"font-weight: bold\">(</span><span style=\"color: #008080; text-decoration-color: #008080; font-weight: bold\">150</span> mM NaCl<span style=\"font-weight: bold\">)</span>, labeled ethanolamine was converted into betaine\n",
       "and other quaternary ammonium compounds <span style=\"font-weight: bold\">(</span>QACs<span style=\"font-weight: bold\">)</span>. This indicates active metabolic pathways converting ethanolamine \n",
       "into betaine under stress conditions, highlighting betaine's role in plant stress responses <span style=\"font-weight: bold\">(</span>source: provided \n",
       "context<span style=\"font-weight: bold\">)</span>.\n",
       "\n",
       "<span style=\"color: #008080; text-decoration-color: #008080; font-weight: bold\">3</span>. Additionally, betaine-related metabolites have been identified as potential dietary biomarkers in nutritional \n",
       "epidemiology studies. For example, proline betaine has been associated with citrus intake, and other betaine \n",
       "derivatives have been linked to specific dietary sources, suggesting their potential use as biomarkers for dietary \n",
       "intake <span style=\"font-weight: bold\">(</span>source: provided context, Mazzilli et al.<span style=\"font-weight: bold\">)</span>.\n",
       "\n",
       "However, regarding congruency with data from the pinecone database, the provided context does not mention or \n",
       "reference the pinecone database explicitly. Therefore, I cannot confirm congruency with data from the pinecone \n",
       "database based on the information provided.\n",
       "</pre>\n"
      ],
      "text/plain": [
       "Yes, there are several interesting findings regarding betaine:\n",
       "\n",
       "\u001b[1;36m1\u001b[0m. Betaine has been shown to accumulate significantly in plants under saline conditions, suggesting a role in \n",
       "osmoregulation. Specifically, in sugar beet \u001b[1m(\u001b[0mBeta spp.\u001b[1m)\u001b[0m, betaine accumulation in response to salt stress could \n",
       "significantly contribute to cytoplasmic osmoregulation. This is supported by the hypothesis that betaine is \n",
       "compartmentalized primarily in the cytoplasm rather than vacuoles, thus functioning as a cytosolic osmoticum \n",
       "\u001b[1m(\u001b[0msource: provided context\u001b[1m)\u001b[0m.\n",
       "\n",
       "\u001b[1;36m2\u001b[0m. In sugar beet plants exposed to saline conditions \u001b[1m(\u001b[0m\u001b[1;36m150\u001b[0m mM NaCl\u001b[1m)\u001b[0m, labeled ethanolamine was converted into betaine\n",
       "and other quaternary ammonium compounds \u001b[1m(\u001b[0mQACs\u001b[1m)\u001b[0m. This indicates active metabolic pathways converting ethanolamine \n",
       "into betaine under stress conditions, highlighting betaine's role in plant stress responses \u001b[1m(\u001b[0msource: provided \n",
       "context\u001b[1m)\u001b[0m.\n",
       "\n",
       "\u001b[1;36m3\u001b[0m. Additionally, betaine-related metabolites have been identified as potential dietary biomarkers in nutritional \n",
       "epidemiology studies. For example, proline betaine has been associated with citrus intake, and other betaine \n",
       "derivatives have been linked to specific dietary sources, suggesting their potential use as biomarkers for dietary \n",
       "intake \u001b[1m(\u001b[0msource: provided context, Mazzilli et al.\u001b[1m)\u001b[0m.\n",
       "\n",
       "However, regarding congruency with data from the pinecone database, the provided context does not mention or \n",
       "reference the pinecone database explicitly. Therefore, I cannot confirm congruency with data from the pinecone \n",
       "database based on the information provided.\n"
      ]
     },
     "metadata": {},
     "output_type": "display_data"
    }
   ],
   "source": [
    "from rich import print\n",
    "print(answer['result'])"
   ]
  },
  {
   "cell_type": "code",
   "execution_count": 76,
   "metadata": {},
   "outputs": [
    {
     "data": {
      "text/html": [
       "<pre style=\"white-space:pre;overflow-x:auto;line-height:normal;font-family:Menlo,'DejaVu Sans Mono',consolas,'Courier New',monospace\">Based on the provided context, there is no information available regarding CD275. Therefore, I cannot provide any \n",
       "interesting findings or cite sources related to CD275 from the given data.\n",
       "</pre>\n"
      ],
      "text/plain": [
       "Based on the provided context, there is no information available regarding CD275. Therefore, I cannot provide any \n",
       "interesting findings or cite sources related to CD275 from the given data.\n"
      ]
     },
     "metadata": {},
     "output_type": "display_data"
    }
   ],
   "source": [
    "answer = qa.invoke(\"Any interesting finding on cd275 ?\\\n",
    "    Cite the sources and are congruent with data from pinecone database\")\n",
    "\n",
    "print(answer['result'])"
   ]
  },
  {
   "cell_type": "code",
   "execution_count": null,
   "metadata": {},
   "outputs": [],
   "source": []
  },
  {
   "cell_type": "code",
   "execution_count": null,
   "metadata": {},
   "outputs": [],
   "source": []
  },
  {
   "cell_type": "code",
   "execution_count": null,
   "metadata": {},
   "outputs": [],
   "source": []
  },
  {
   "cell_type": "code",
   "execution_count": null,
   "metadata": {},
   "outputs": [],
   "source": []
  }
 ],
 "metadata": {
  "kernelspec": {
   "display_name": ".venv",
   "language": "python",
   "name": "python3"
  },
  "language_info": {
   "codemirror_mode": {
    "name": "ipython",
    "version": 3
   },
   "file_extension": ".py",
   "mimetype": "text/x-python",
   "name": "python",
   "nbconvert_exporter": "python",
   "pygments_lexer": "ipython3",
   "version": "3.12.7"
  }
 },
 "nbformat": 4,
 "nbformat_minor": 2
}
